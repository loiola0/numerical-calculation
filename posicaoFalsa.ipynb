{
  "nbformat": 4,
  "nbformat_minor": 0,
  "metadata": {
    "colab": {
      "name": "posicaoFalsa.ipynb",
      "provenance": []
    },
    "kernelspec": {
      "name": "python3",
      "display_name": "Python 3"
    },
    "language_info": {
      "name": "python"
    }
  },
  "cells": [
    {
      "cell_type": "code",
      "metadata": {
        "id": "1M4Arxtucn1T"
      },
      "source": [
        "import numpy as np"
      ],
      "execution_count": 4,
      "outputs": []
    },
    {
      "cell_type": "code",
      "metadata": {
        "id": "QswqLmZVdUzU"
      },
      "source": [
        "def f(x):\n",
        "  f = x**2 - 9*x + 3\n",
        "  return f"
      ],
      "execution_count": 5,
      "outputs": []
    },
    {
      "cell_type": "code",
      "metadata": {
        "id": "Drf4KyrDh_u0"
      },
      "source": [
        "a = 0\n",
        "b = 1\n",
        "tol = 1e-4\n",
        "\n",
        "x = (a*f(b)-b*f(a))/(f(b)-f(a))"
      ],
      "execution_count": 6,
      "outputs": []
    },
    {
      "cell_type": "code",
      "metadata": {
        "colab": {
          "base_uri": "https://localhost:8080/"
        },
        "id": "Zzwu4Qz7im3Z",
        "outputId": "3f40f019-19c0-40ea-b725-4efc2b83d588"
      },
      "source": [
        "k = 0\n",
        "\n",
        "while abs(f(x)) > tol:\n",
        "  x = (a*f(b)-b*f(a))/(f(b)-f(a))\n",
        "  print(k,a,x,b,f(a),f(x),f(b))\n",
        "\n",
        "  if f(a)*f(x) < 0:\n",
        "    a = a\n",
        "    b = x\n",
        "\n",
        "  elif f(x)*f(b) > 0:\n",
        "    a = x\n",
        "    b = b\n",
        "  \n",
        "\n",
        "  k+=1\n",
        "\n",
        "\n",
        "print('O resultado é ', x)\n",
        "\n",
        "\n"
      ],
      "execution_count": 10,
      "outputs": [
        {
          "output_type": "stream",
          "text": [
            "0 0 0.375 1 3 -0.234375 -5\n",
            "1 0 0.34782608695652173 0.375 3 -0.009451795841209698 -0.234375\n",
            "2 0 0.34673366834170855 0.34782608695652173 3 -0.0003787783136788292 -0.009451795841209698\n",
            "3 0 0.34668989547038326 0.34673366834170855 3 -1.517561218378205e-05 -0.0003787783136788292\n",
            "O resultado é  0.34668989547038326\n"
          ],
          "name": "stdout"
        }
      ]
    }
  ]
}